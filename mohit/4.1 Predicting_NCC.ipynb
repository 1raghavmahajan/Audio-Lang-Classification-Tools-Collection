{
 "cells": [
  {
   "cell_type": "code",
   "execution_count": 1,
   "metadata": {},
   "outputs": [],
   "source": [
    "import pickle\n",
    "import numpy as np\n",
    "import matplotlib.pyplot as plt\n",
    "import librosa\n",
    "import collections \n",
    "\n",
    "from sklearn.neighbors import NearestCentroid\n",
    "from sklearn.metrics import confusion_matrix, f1_score, accuracy_score"
   ]
  },
  {
   "cell_type": "code",
   "execution_count": 2,
   "metadata": {},
   "outputs": [],
   "source": [
    "unit_len = 1*22050\n",
    "sub_len = 10*unit_len\n",
    "step = 8*unit_len\n",
    "bands = 20\n",
    "languages = ['english','hindi','urdu','telugu','punjabi','malayalam','assamese','bengali','marathi','odiya','tamil','kannada']"
   ]
  },
  {
   "cell_type": "code",
   "execution_count": 3,
   "metadata": {},
   "outputs": [],
   "source": [
    "def feature_normalize(dataset):\n",
    "    mu = np.mean(dataset, axis=0)\n",
    "    dataset -= mu \n",
    "    maxx = np.max(abs(dataset), axis=0)\n",
    "    return dataset / maxx"
   ]
  },
  {
   "cell_type": "code",
   "execution_count": 4,
   "metadata": {},
   "outputs": [],
   "source": [
    "def energy(samples):\n",
    "    return np.sum(np.power(samples, 2.)) / float(len(samples))"
   ]
  },
  {
   "cell_type": "code",
   "execution_count": 5,
   "metadata": {},
   "outputs": [],
   "source": [
    "def remove_silence(sound_clip, silence_len=1):\n",
    "    new_clip = np.asarray([])\n",
    "    sub_len = int(silence_len*22050)\n",
    "    for i in range(0, len(sound_clip), sub_len):\n",
    "        e = energy(sound_clip[i:i+sub_len])\n",
    "        if e>0.001:\n",
    "            new_clip=  np.concatenate((new_clip,sound_clip[i:i+sub_len]))\n",
    "    return new_clip"
   ]
  },
  {
   "cell_type": "code",
   "execution_count": 6,
   "metadata": {},
   "outputs": [],
   "source": [
    "def CountFrequency(arr): \n",
    "    return collections.Counter(arr) "
   ]
  },
  {
   "cell_type": "markdown",
   "metadata": {},
   "source": [
    "## Get model"
   ]
  },
  {
   "cell_type": "code",
   "execution_count": 7,
   "metadata": {},
   "outputs": [],
   "source": [
    "with open(\"./data-pickle/ncc-classifier-2.pkl\",\"rb\") as f:\n",
    "    classifier = pickle.load(f)"
   ]
  },
  {
   "cell_type": "markdown",
   "metadata": {},
   "source": [
    "## Get File"
   ]
  },
  {
   "cell_type": "code",
   "execution_count": 8,
   "metadata": {},
   "outputs": [],
   "source": [
    "file_path = './unknown-data/unknown_wav/telugu-2.wav'\n",
    "mfccs = []\n",
    "sound_clip,sr = librosa.load(file_path)\n",
    "sound_clip = feature_normalize(sound_clip)\n",
    "sound_clip = remove_silence(sound_clip[unit_len*30:])\n",
    "for i in range(0, len(sound_clip) - sub_len, step):\n",
    "    mfcc = librosa.feature.mfcc(y=sound_clip[i: i + sub_len], sr=sr, n_mfcc = bands).T \n",
    "    mfccs.append(mfcc)"
   ]
  },
  {
   "cell_type": "code",
   "execution_count": 9,
   "metadata": {},
   "outputs": [
    {
     "data": {
      "text/plain": [
       "(58, 8620)"
      ]
     },
     "execution_count": 9,
     "metadata": {},
     "output_type": "execute_result"
    }
   ],
   "source": [
    "X = np.asarray(mfccs)\n",
    "X = X.reshape(len(X),-1)\n",
    "X.shape"
   ]
  },
  {
   "cell_type": "code",
   "execution_count": 10,
   "metadata": {},
   "outputs": [],
   "source": [
    "y = classifier.predict(X)"
   ]
  },
  {
   "cell_type": "code",
   "execution_count": 11,
   "metadata": {
    "scrolled": true
   },
   "outputs": [
    {
     "data": {
      "text/plain": [
       "['telugu',\n",
       " 'telugu',\n",
       " 'telugu',\n",
       " 'telugu',\n",
       " 'telugu',\n",
       " 'telugu',\n",
       " 'telugu',\n",
       " 'telugu',\n",
       " 'telugu',\n",
       " 'telugu',\n",
       " 'malayalam',\n",
       " 'malayalam',\n",
       " 'punjabi',\n",
       " 'telugu',\n",
       " 'malayalam',\n",
       " 'malayalam',\n",
       " 'malayalam',\n",
       " 'malayalam',\n",
       " 'malayalam',\n",
       " 'malayalam',\n",
       " 'malayalam',\n",
       " 'malayalam',\n",
       " 'malayalam',\n",
       " 'malayalam',\n",
       " 'malayalam',\n",
       " 'punjabi',\n",
       " 'malayalam',\n",
       " 'telugu',\n",
       " 'telugu',\n",
       " 'telugu',\n",
       " 'malayalam',\n",
       " 'malayalam',\n",
       " 'malayalam',\n",
       " 'malayalam',\n",
       " 'malayalam',\n",
       " 'punjabi',\n",
       " 'malayalam',\n",
       " 'malayalam',\n",
       " 'malayalam',\n",
       " 'telugu',\n",
       " 'telugu',\n",
       " 'telugu',\n",
       " 'telugu',\n",
       " 'telugu',\n",
       " 'telugu',\n",
       " 'telugu',\n",
       " 'malayalam',\n",
       " 'telugu',\n",
       " 'telugu',\n",
       " 'telugu',\n",
       " 'telugu',\n",
       " 'telugu',\n",
       " 'malayalam',\n",
       " 'telugu',\n",
       " 'malayalam',\n",
       " 'telugu',\n",
       " 'malayalam',\n",
       " 'malayalam']"
      ]
     },
     "execution_count": 11,
     "metadata": {},
     "output_type": "execute_result"
    }
   ],
   "source": [
    "result = [languages[i] for i in y]\n",
    "result"
   ]
  },
  {
   "cell_type": "code",
   "execution_count": 13,
   "metadata": {},
   "outputs": [
    {
     "name": "stdout",
     "output_type": "stream",
     "text": [
      "dict_keys(['telugu', 'malayalam', 'punjabi'])\n",
      "dict_values([28, 27, 3])\n"
     ]
    }
   ],
   "source": [
    "counter = CountFrequency(result) \n",
    "print(counter.keys())\n",
    "print(counter.values())"
   ]
  }
 ],
 "metadata": {
  "kernelspec": {
   "display_name": "Python 3",
   "language": "python",
   "name": "python3"
  },
  "language_info": {
   "codemirror_mode": {
    "name": "ipython",
    "version": 3
   },
   "file_extension": ".py",
   "mimetype": "text/x-python",
   "name": "python",
   "nbconvert_exporter": "python",
   "pygments_lexer": "ipython3",
   "version": "3.6.7"
  }
 },
 "nbformat": 4,
 "nbformat_minor": 2
}
