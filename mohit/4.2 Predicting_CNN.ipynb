{
 "cells": [
  {
   "cell_type": "code",
   "execution_count": 1,
   "metadata": {},
   "outputs": [],
   "source": [
    "import pickle\n",
    "import numpy as np\n",
    "import matplotlib.pyplot as plt\n",
    "import librosa\n",
    "import collections \n",
    "\n",
    "from sklearn.metrics import confusion_matrix, f1_score, accuracy_score"
   ]
  },
  {
   "cell_type": "code",
   "execution_count": 2,
   "metadata": {},
   "outputs": [],
   "source": [
    "unit_len = 1*22050\n",
    "sub_len = 10*unit_len\n",
    "step = 8*unit_len\n",
    "bands = 20\n",
    "languages = ['english','hindi','urdu','telugu','punjabi','malayalam','assamese','bengali','marathi','odiya','tamil','kannada']"
   ]
  },
  {
   "cell_type": "code",
   "execution_count": 3,
   "metadata": {},
   "outputs": [],
   "source": [
    "def feature_normalize(dataset):\n",
    "    mu = np.mean(dataset, axis=0)\n",
    "    dataset -= mu \n",
    "    maxx = np.max(abs(dataset), axis=0)\n",
    "    return dataset / maxx"
   ]
  },
  {
   "cell_type": "code",
   "execution_count": 4,
   "metadata": {},
   "outputs": [],
   "source": [
    "def energy(samples):\n",
    "    return np.sum(np.power(samples, 2.)) / float(len(samples))"
   ]
  },
  {
   "cell_type": "code",
   "execution_count": 5,
   "metadata": {},
   "outputs": [],
   "source": [
    "def remove_silence(sound_clip, silence_len=1):\n",
    "    new_clip = np.asarray([])\n",
    "    sub_len = int(silence_len*22050)\n",
    "    for i in range(0, len(sound_clip), sub_len):\n",
    "        e = energy(sound_clip[i:i+sub_len])\n",
    "        if e>0.001:\n",
    "            new_clip=  np.concatenate((new_clip,sound_clip[i:i+sub_len]))\n",
    "    return new_clip"
   ]
  },
  {
   "cell_type": "code",
   "execution_count": 6,
   "metadata": {},
   "outputs": [],
   "source": [
    "def CountFrequency(arr): \n",
    "    return collections.Counter(arr) "
   ]
  },
  {
   "cell_type": "markdown",
   "metadata": {},
   "source": [
    "## Get model"
   ]
  },
  {
   "cell_type": "code",
   "execution_count": 75,
   "metadata": {},
   "outputs": [],
   "source": [
    "from keras.models import load_model\n",
    "model = load_model('./data-pickle/model_3_cnn.h5')"
   ]
  },
  {
   "cell_type": "code",
   "execution_count": 76,
   "metadata": {},
   "outputs": [],
   "source": [
    "with open(\"./data-pickle/y_test.pkl\",\"rb\") as f:\n",
    "    y_test = pickle.load(f)"
   ]
  },
  {
   "cell_type": "code",
   "execution_count": 80,
   "metadata": {},
   "outputs": [],
   "source": [
    "with open(\"./data-pickle/result_y_pred.pkl\",\"rb\") as f:\n",
    "    y_pred = pickle.load(f)\n",
    "y_pred = np.argmax(y_pred,axis = 1)"
   ]
  },
  {
   "cell_type": "code",
   "execution_count": 85,
   "metadata": {},
   "outputs": [
    {
     "data": {
      "text/plain": [
       "array([[324,  29,  57,   0,   0,   2,   0,   0,   0,   0,   0,   0],\n",
       "       [107, 179, 102,   0,   0,   5,   0,   1,   0,   0,   0,   0],\n",
       "       [ 35,   3, 322,   0,   0,   0,   0,   0,   0,   0,   0,   0],\n",
       "       [  0,   0,   0, 205,   1,  15,   6,   0,   0,   4,   2,   0],\n",
       "       [  1,   0,   0,   0, 272,   2,   6,   1,   3,   0,   0,   0],\n",
       "       [  8,   3,   1,   1,   0, 149,  20,   0,  10,   0,  35,   3],\n",
       "       [  0,   0,   0,   1,   6,   3, 120,   0,   3,   0,  11,   0],\n",
       "       [  8,   4,   0,   2,   7,   0,   0, 204,   2,   0,   3,   0],\n",
       "       [  0,   0,   0,   6,   6,   3,   6,   2, 186,   0,   5,   0],\n",
       "       [  0,   0,   0,   0,   1,   0,   0,   0,   3, 221,   0,   0],\n",
       "       [  0,   0,   0,   0,   0,   9,   0,   0,   5,   0, 214,   1],\n",
       "       [  0,   0,   0,   0,   0,   2,   0,   0,   1,   1,   2, 231]])"
      ]
     },
     "execution_count": 85,
     "metadata": {},
     "output_type": "execute_result"
    }
   ],
   "source": [
    "cm = confusion_matrix(y_test,y_pred)\n",
    "cm"
   ]
  },
  {
   "cell_type": "markdown",
   "metadata": {},
   "source": [
    "## Get File"
   ]
  },
  {
   "cell_type": "code",
   "execution_count": 148,
   "metadata": {},
   "outputs": [],
   "source": [
    "# file_path = './unknown-data/unknown_wav/punjabi-2.wav'\n",
    "file_path = './data/punjabi_wav/Regional-Chandigarh-Punjabi-1820-2019120194228.wav'\n",
    "\n",
    "mfccs = []\n",
    "sound_clip,sr = librosa.load(file_path)\n",
    "sound_clip = feature_normalize(sound_clip)\n",
    "sound_clip = remove_silence(sound_clip[unit_len*30:])\n",
    "for i in range(0, len(sound_clip) - sub_len, step):\n",
    "    mfcc = librosa.feature.mfcc(y=sound_clip[i: i + sub_len], sr=sr, n_mfcc = bands).T \n",
    "    mfccs.append(mfcc)"
   ]
  },
  {
   "cell_type": "code",
   "execution_count": 149,
   "metadata": {},
   "outputs": [
    {
     "data": {
      "text/plain": [
       "(63, 431, 20, 1)"
      ]
     },
     "execution_count": 149,
     "metadata": {},
     "output_type": "execute_result"
    }
   ],
   "source": [
    "X = np.asarray(mfccs)\n",
    "X = X.reshape(-1,431,20,1)\n",
    "X.shape"
   ]
  },
  {
   "cell_type": "code",
   "execution_count": 150,
   "metadata": {},
   "outputs": [],
   "source": [
    "y = model.predict(X)"
   ]
  },
  {
   "cell_type": "code",
   "execution_count": 151,
   "metadata": {},
   "outputs": [],
   "source": [
    "y = np.argmax(y,axis = 1)"
   ]
  },
  {
   "cell_type": "code",
   "execution_count": 152,
   "metadata": {
    "scrolled": true
   },
   "outputs": [
    {
     "data": {
      "text/plain": [
       "['punjabi',\n",
       " 'punjabi',\n",
       " 'punjabi',\n",
       " 'punjabi',\n",
       " 'punjabi',\n",
       " 'punjabi',\n",
       " 'punjabi',\n",
       " 'punjabi',\n",
       " 'punjabi',\n",
       " 'punjabi',\n",
       " 'punjabi',\n",
       " 'punjabi',\n",
       " 'punjabi',\n",
       " 'punjabi',\n",
       " 'punjabi',\n",
       " 'punjabi',\n",
       " 'punjabi',\n",
       " 'punjabi',\n",
       " 'punjabi',\n",
       " 'punjabi',\n",
       " 'punjabi',\n",
       " 'punjabi',\n",
       " 'punjabi',\n",
       " 'punjabi',\n",
       " 'punjabi',\n",
       " 'punjabi',\n",
       " 'punjabi',\n",
       " 'punjabi',\n",
       " 'punjabi',\n",
       " 'punjabi',\n",
       " 'punjabi',\n",
       " 'punjabi',\n",
       " 'punjabi',\n",
       " 'punjabi',\n",
       " 'punjabi',\n",
       " 'punjabi',\n",
       " 'punjabi',\n",
       " 'punjabi',\n",
       " 'punjabi',\n",
       " 'punjabi',\n",
       " 'punjabi',\n",
       " 'punjabi',\n",
       " 'punjabi',\n",
       " 'punjabi',\n",
       " 'punjabi',\n",
       " 'punjabi',\n",
       " 'punjabi',\n",
       " 'punjabi',\n",
       " 'punjabi',\n",
       " 'punjabi',\n",
       " 'punjabi',\n",
       " 'punjabi',\n",
       " 'punjabi',\n",
       " 'punjabi',\n",
       " 'punjabi',\n",
       " 'punjabi',\n",
       " 'punjabi',\n",
       " 'punjabi',\n",
       " 'punjabi',\n",
       " 'punjabi',\n",
       " 'punjabi',\n",
       " 'punjabi',\n",
       " 'punjabi']"
      ]
     },
     "execution_count": 152,
     "metadata": {},
     "output_type": "execute_result"
    }
   ],
   "source": [
    "result = [languages[i] for i in y]\n",
    "result"
   ]
  },
  {
   "cell_type": "code",
   "execution_count": 153,
   "metadata": {},
   "outputs": [
    {
     "name": "stdout",
     "output_type": "stream",
     "text": [
      "dict_keys(['punjabi'])\n",
      "dict_values([63])\n"
     ]
    }
   ],
   "source": [
    "counter = CountFrequency(result) \n",
    "print(counter.keys())\n",
    "print(counter.values())"
   ]
  }
 ],
 "metadata": {
  "kernelspec": {
   "display_name": "Python 3",
   "language": "python",
   "name": "python3"
  },
  "language_info": {
   "codemirror_mode": {
    "name": "ipython",
    "version": 3
   },
   "file_extension": ".py",
   "mimetype": "text/x-python",
   "name": "python",
   "nbconvert_exporter": "python",
   "pygments_lexer": "ipython3",
   "version": "3.6.7"
  }
 },
 "nbformat": 4,
 "nbformat_minor": 2
}
