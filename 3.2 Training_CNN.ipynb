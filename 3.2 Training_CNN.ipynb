{
 "cells": [
  {
   "cell_type": "code",
   "execution_count": 1,
   "metadata": {},
   "outputs": [
    {
     "name": "stdout",
     "output_type": "stream",
     "text": [
      "base\n"
     ]
    },
    {
     "name": "stderr",
     "output_type": "stream",
     "text": [
      "Using TensorFlow backend.\n"
     ]
    }
   ],
   "source": [
    "import os\n",
    "print(os.environ['CONDA_DEFAULT_ENV'])\n",
    "import keras\n",
    "import tensorflow as tf\n",
    "config = tf.ConfigProto(device_count={\"CPU\": 4})\n",
    "keras.backend.tensorflow_backend.set_session(tf.Session(config=config))"
   ]
  },
  {
   "cell_type": "code",
   "execution_count": 2,
   "metadata": {},
   "outputs": [],
   "source": [
    "import pickle\n",
    "import numpy as np\n",
    "import matplotlib.pyplot as plt\n",
    "\n",
    "from keras.models import Model, load_model\n",
    "from keras.layers import Dense, Activation, Dropout, Input, Conv2D, MaxPooling2D, Flatten, BatchNormalization\n",
    "from keras.layers.merge import concatenate\n",
    "from keras.optimizers import Adam\n",
    "from keras.utils import plot_model\n",
    "from sklearn.metrics import confusion_matrix, f1_score, accuracy_score"
   ]
  },
  {
   "cell_type": "code",
   "execution_count": 3,
   "metadata": {},
   "outputs": [],
   "source": [
    "with open(\"./data-pickle/X_train.pkl\",\"rb\") as f:\n",
    "    X_train = pickle.load(f)"
   ]
  },
  {
   "cell_type": "code",
   "execution_count": 4,
   "metadata": {},
   "outputs": [],
   "source": [
    "with open(\"./data-pickle/X_test.pkl\",\"rb\") as f:\n",
    "    X_test = pickle.load(f)"
   ]
  },
  {
   "cell_type": "code",
   "execution_count": 5,
   "metadata": {},
   "outputs": [],
   "source": [
    "with open(\"./data-pickle/y_train.pkl\",\"rb\") as f:\n",
    "    y_train = pickle.load(f)"
   ]
  },
  {
   "cell_type": "code",
   "execution_count": 6,
   "metadata": {},
   "outputs": [],
   "source": [
    "with open(\"./data-pickle/y_test.pkl\",\"rb\") as f:\n",
    "    y_test = pickle.load(f)"
   ]
  },
  {
   "cell_type": "code",
   "execution_count": 7,
   "metadata": {},
   "outputs": [],
   "source": [
    "X_train = X_train.reshape(-1,431,20,1)\n",
    "X_test = X_test.reshape(-1,431,20,1)"
   ]
  },
  {
   "cell_type": "code",
   "execution_count": 8,
   "metadata": {},
   "outputs": [
    {
     "data": {
      "text/plain": [
       "(12770, 431, 20, 1)"
      ]
     },
     "execution_count": 8,
     "metadata": {},
     "output_type": "execute_result"
    }
   ],
   "source": [
    "X_train.shape"
   ]
  },
  {
   "cell_type": "code",
   "execution_count": 9,
   "metadata": {},
   "outputs": [
    {
     "data": {
      "text/plain": [
       "(3193, 431, 20, 1)"
      ]
     },
     "execution_count": 9,
     "metadata": {},
     "output_type": "execute_result"
    }
   ],
   "source": [
    "X_test.shape"
   ]
  },
  {
   "cell_type": "code",
   "execution_count": 10,
   "metadata": {},
   "outputs": [],
   "source": [
    "from keras.utils import to_categorical\n",
    "y_train = to_categorical(y_train, 12)\n",
    "y_test = to_categorical(y_test, 12)"
   ]
  },
  {
   "cell_type": "markdown",
   "metadata": {},
   "source": [
    "Model"
   ]
  },
  {
   "cell_type": "code",
   "execution_count": 11,
   "metadata": {},
   "outputs": [],
   "source": [
    "X_input = Input(shape = (431,20,1))\n",
    "    \n",
    "# Step 1: CONV layer\n",
    "X = Conv2D(98, kernel_size=(30,5), strides=(10,1))(X_input)   # CONV2D\n",
    "X = BatchNormalization()(X)                                   # Batch normalization\n",
    "X = Activation('relu')(X)                                     # ReLu activation\n",
    "X = Dropout(0.2)(X)                                           # dropout (use 0.2)\n",
    "\n",
    "# Step 2: CONV layer\n",
    "X = Conv2D(98, kernel_size=(5,3), strides=(2,1))(X)           # CONV2D\n",
    "X = BatchNormalization()(X)                                   # Batch normalization\n",
    "X = Activation('relu')(X)                                     # ReLu activation\n",
    "X = Dropout(0.2)(X)                                           # dropout (use 0.2)\n",
    "\n",
    "# Step 3: CONV layer\n",
    "X = Conv2D(48, kernel_size=(3,3), strides=(1,1))(X)           # CONV2D\n",
    "X = BatchNormalization()(X)                                   # Batch normalization\n",
    "X = Activation('relu')(X)                                     # ReLu activation\n",
    "X = Dropout(0.2)(X)                                           # dropout (use 0.2)\n",
    "\n",
    "X = Flatten()(X)\n",
    "X = Dense(12, activation = \"sigmoid\")(X)\n",
    "model = Model(inputs = X_input, outputs = X) "
   ]
  },
  {
   "cell_type": "code",
   "execution_count": 12,
   "metadata": {},
   "outputs": [
    {
     "name": "stdout",
     "output_type": "stream",
     "text": [
      "_________________________________________________________________\n",
      "Layer (type)                 Output Shape              Param #   \n",
      "=================================================================\n",
      "input_1 (InputLayer)         (None, 431, 20, 1)        0         \n",
      "_________________________________________________________________\n",
      "conv2d_1 (Conv2D)            (None, 41, 16, 98)        14798     \n",
      "_________________________________________________________________\n",
      "batch_normalization_1 (Batch (None, 41, 16, 98)        392       \n",
      "_________________________________________________________________\n",
      "activation_1 (Activation)    (None, 41, 16, 98)        0         \n",
      "_________________________________________________________________\n",
      "dropout_1 (Dropout)          (None, 41, 16, 98)        0         \n",
      "_________________________________________________________________\n",
      "conv2d_2 (Conv2D)            (None, 19, 14, 98)        144158    \n",
      "_________________________________________________________________\n",
      "batch_normalization_2 (Batch (None, 19, 14, 98)        392       \n",
      "_________________________________________________________________\n",
      "activation_2 (Activation)    (None, 19, 14, 98)        0         \n",
      "_________________________________________________________________\n",
      "dropout_2 (Dropout)          (None, 19, 14, 98)        0         \n",
      "_________________________________________________________________\n",
      "conv2d_3 (Conv2D)            (None, 17, 12, 48)        42384     \n",
      "_________________________________________________________________\n",
      "batch_normalization_3 (Batch (None, 17, 12, 48)        192       \n",
      "_________________________________________________________________\n",
      "activation_3 (Activation)    (None, 17, 12, 48)        0         \n",
      "_________________________________________________________________\n",
      "dropout_3 (Dropout)          (None, 17, 12, 48)        0         \n",
      "_________________________________________________________________\n",
      "flatten_1 (Flatten)          (None, 9792)              0         \n",
      "_________________________________________________________________\n",
      "dense_1 (Dense)              (None, 12)                117516    \n",
      "=================================================================\n",
      "Total params: 319,832\n",
      "Trainable params: 319,344\n",
      "Non-trainable params: 488\n",
      "_________________________________________________________________\n"
     ]
    }
   ],
   "source": [
    "opt = Adam(lr=0.0001, beta_1=0.9, beta_2=0.999, decay=0.01)\n",
    "\n",
    "model.compile(\n",
    "  loss='categorical_crossentropy',\n",
    "  optimizer=opt,\n",
    "  metrics=['accuracy']\n",
    ")\n",
    "model.summary()"
   ]
  },
  {
   "cell_type": "code",
   "execution_count": 13,
   "metadata": {},
   "outputs": [],
   "source": [
    "plot_model(model, to_file='3-cnn-model-architecture-6.png')"
   ]
  },
  {
   "cell_type": "markdown",
   "metadata": {},
   "source": [
    "<center><img src=\"3-cnn-model-architecture-6.png\" height=\"50\"></center>"
   ]
  },
  {
   "cell_type": "code",
   "execution_count": 14,
   "metadata": {},
   "outputs": [
    {
     "name": "stdout",
     "output_type": "stream",
     "text": [
      "Train on 12770 samples, validate on 3193 samples\n",
      "Epoch 1/5\n",
      "12770/12770 [==============================] - 118s 9ms/step - loss: 0.7799 - acc: 0.7062 - val_loss: 0.7042 - val_acc: 0.7714\n",
      "Epoch 3/5\n",
      "12770/12770 [==============================] - 118s 9ms/step - loss: 0.6446 - acc: 0.7628 - val_loss: 0.5989 - val_acc: 0.8099\n",
      "Epoch 4/5\n",
      "12770/12770 [==============================] - 118s 9ms/step - loss: 0.5691 - acc: 0.7971 - val_loss: 0.5358 - val_acc: 0.8249\n",
      "Epoch 5/5\n",
      "12770/12770 [==============================] - 118s 9ms/step - loss: 0.5260 - acc: 0.8154 - val_loss: 0.5143 - val_acc: 0.8227\n"
     ]
    }
   ],
   "source": [
    "r = model.fit(\n",
    "  X_train,\n",
    "  y_train,\n",
    "  validation_data=(X_test, y_test),\n",
    "  batch_size=128,\n",
    "  epochs=5\n",
    ")"
   ]
  },
  {
   "cell_type": "code",
   "execution_count": 15,
   "metadata": {},
   "outputs": [],
   "source": [
    "y_pred = model.predict(X_test)"
   ]
  },
  {
   "cell_type": "code",
   "execution_count": 16,
   "metadata": {},
   "outputs": [],
   "source": [
    "with open(\"./data-pickle/result_y_pred.pkl\",\"wb\") as f:\n",
    "    pickle.dump(y_pred,f)"
   ]
  },
  {
   "cell_type": "code",
   "execution_count": 17,
   "metadata": {},
   "outputs": [
    {
     "data": {
      "image/png": "[encoded data removed]",
      "text/plain": [
       "<Figure size 432x288 with 1 Axes>"
      ]
     },
     "metadata": {
      "needs_background": "light"
     },
     "output_type": "display_data"
    }
   ],
   "source": [
    "# plot some data\n",
    "plt.plot(r.history['loss'], label='loss')\n",
    "plt.plot(r.history['val_loss'], label='val_loss')\n",
    "plt.legend()\n",
    "plt.show()"
   ]
  },
  {
   "cell_type": "code",
   "execution_count": 18,
   "metadata": {},
   "outputs": [
    {
     "data": {
      "image/png": "[encoded data removed]",
      "text/plain": [
       "<Figure size 432x288 with 1 Axes>"
      ]
     },
     "metadata": {
      "needs_background": "light"
     },
     "output_type": "display_data"
    }
   ],
   "source": [
    "plt.plot(r.history['acc'], label='acc')\n",
    "plt.plot(r.history['val_acc'], label='val_acc')\n",
    "plt.legend()\n",
    "plt.show()"
   ]
  },
  {
   "cell_type": "markdown",
   "metadata": {},
   "source": [
    "## Save model"
   ]
  },
  {
   "cell_type": "code",
   "execution_count": 19,
   "metadata": {},
   "outputs": [],
   "source": [
    "from keras.models import load_model\n",
    "\n",
    "model.save('data-pickle/model_3_cnn.h5')"
   ]
  },
  {
   "cell_type": "markdown",
   "metadata": {},
   "source": [
    "## Load model"
   ]
  },
  {
   "cell_type": "code",
   "execution_count": 20,
   "metadata": {},
   "outputs": [],
   "source": [
    "from keras.models import load_model\n",
    "model = load_model('./data-pickle/model_3_cnn.h5')"
   ]
  }
 ],
 "metadata": {
  "kernelspec": {
   "display_name": "Python 3",
   "language": "python",
   "name": "python3"
  },
  "language_info": {
   "codemirror_mode": {
    "name": "ipython",
    "version": 3
   },
   "file_extension": ".py",
   "mimetype": "text/x-python",
   "name": "python",
   "nbconvert_exporter": "python",
   "pygments_lexer": "ipython3",
   "version": "3.6.7"
  }
 },
 "nbformat": 4,
 "nbformat_minor": 2
}
